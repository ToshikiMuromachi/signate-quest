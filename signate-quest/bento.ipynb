{
 "cells": [
  {
   "cell_type": "code",
   "execution_count": 1,
   "metadata": {},
   "outputs": [],
   "source": [
    "# coding:utf-8\n",
    "import numpy as np\n",
    "import pandas as pd\n",
    "import matplotlib.pyplot as plt\n",
    "import seaborn as sns\n",
    "from sklearn import ensemble, metrics"
   ]
  },
  {
   "cell_type": "code",
   "execution_count": 2,
   "metadata": {},
   "outputs": [
    {
     "data": {
      "text/plain": [
       "20"
      ]
     },
     "execution_count": 2,
     "metadata": {},
     "output_type": "execute_result"
    }
   ],
   "source": [
    "# pandasのインポート\n",
    "import pandas as pd\n",
    "# 現在の最大表示列数の出力\n",
    "pd.get_option(\"display.max_columns\", None)"
   ]
  },
  {
   "cell_type": "code",
   "execution_count": 3,
   "metadata": {},
   "outputs": [
    {
     "name": "stdout",
     "output_type": "stream",
     "text": [
      "sample_submit.csv  test.csv  train.csv\r\n"
     ]
    }
   ],
   "source": [
    "!cd ../input && ls"
   ]
  },
  {
   "cell_type": "code",
   "execution_count": 4,
   "metadata": {},
   "outputs": [
    {
     "name": "stdout",
     "output_type": "stream",
     "text": [
      "              y week  soldout           name  kcal remarks event  payday  \\\n",
      "datetime                                                                   \n",
      "2013-11-18   90    月        0       厚切りイカフライ   NaN     NaN   NaN     NaN   \n",
      "2013-11-19  101    火        1        手作りヒレカツ   NaN     NaN   NaN     NaN   \n",
      "2013-11-20  118    水        0     白身魚唐揚げ野菜あん   NaN     NaN   NaN     NaN   \n",
      "2013-11-21  120    木        1         若鶏ピリ辛焼   NaN     NaN   NaN     NaN   \n",
      "2013-11-22  130    金        1       ビッグメンチカツ   NaN     NaN   NaN     NaN   \n",
      "2013-11-25  135    月        1           鶏の唐揚   NaN     NaN   NaN     NaN   \n",
      "2013-11-26  145    火        0       豚のスタミナ炒め   NaN     NaN   NaN     NaN   \n",
      "2013-11-27  140    水        1       ボローニャ風カツ   NaN     NaN   NaN     NaN   \n",
      "2013-11-28  151    木        0          ハンバーグ   NaN     NaN   NaN     NaN   \n",
      "2013-11-29  116    金        0  タルタルinソーセージカツ   NaN     NaN   NaN     NaN   \n",
      "\n",
      "           weather precipitation  temperature  \n",
      "datetime                                       \n",
      "2013-11-18      快晴            --         19.8  \n",
      "2013-11-19      快晴            --         17.0  \n",
      "2013-11-20      快晴            --         15.5  \n",
      "2013-11-21      快晴            --         15.2  \n",
      "2013-11-22      快晴            --         16.1  \n",
      "2013-11-25       曇            --         14.6  \n",
      "2013-11-26      快晴            --         17.9  \n",
      "2013-11-27      晴れ            --         14.7  \n",
      "2013-11-28      薄曇            --         17.7  \n",
      "2013-11-29      快晴            --         12.1  \n"
     ]
    }
   ],
   "source": [
    "# 学習用データの読み込み\n",
    "df = pd.read_csv(\"../input/train.csv\", index_col='datetime')\n",
    "\n",
    "# データの先頭10行の表示\n",
    "print( df.head(10) )"
   ]
  },
  {
   "cell_type": "code",
   "execution_count": 5,
   "metadata": {},
   "outputs": [],
   "source": [
    "# pandas-profilingで簡易データ解析を行う\n",
    "# import pandas_profiling\n",
    "# prof = pandas_profiling.ProfileReport(df)\n",
    "# prof.to_file('output.html')"
   ]
  },
  {
   "cell_type": "code",
   "execution_count": 6,
   "metadata": {},
   "outputs": [
    {
     "name": "stdout",
     "output_type": "stream",
     "text": [
      "           week  soldout          name   kcal       remarks          event  \\\n",
      "datetime                                                                     \n",
      "2014-10-1     水        1         メンチカツ  420.0           NaN            NaN   \n",
      "2014-10-2     木        0     バーベキューチキン  415.0           NaN            NaN   \n",
      "2014-10-3     金        0    豚肉のマスタード焼き  405.0           NaN            NaN   \n",
      "2014-10-6     月        1          麻婆春雨  400.0           NaN            NaN   \n",
      "2014-10-7     火        0      厚揚げ肉みそ炒め  430.0           NaN            NaN   \n",
      "2014-10-8     水        0  完熟トマトのホットカレー  420.0           NaN            NaN   \n",
      "2014-10-9     木        0        豚キムチ炒め  435.0           NaN  キャリアアップ支援セミナー   \n",
      "2014-10-10    金        0        ポークカレー    NaN      お楽しみメニュー            NaN   \n",
      "2014-10-14    火        0       若鶏梅肉包揚げ  408.0           NaN            NaN   \n",
      "2014-10-15    水        1       ミックスグリル  450.0  料理長のこだわりメニュー            NaN   \n",
      "\n",
      "            payday weather precipitation  temperature  \n",
      "datetime                                               \n",
      "2014-10-1      NaN       雨             0         20.2  \n",
      "2014-10-2      NaN       曇            --         23.9  \n",
      "2014-10-3      NaN      晴れ            --         28.7  \n",
      "2014-10-6      NaN       雨           0.5         21.5  \n",
      "2014-10-7      NaN      晴れ            --         22.1  \n",
      "2014-10-8      NaN      晴れ            --         23.3  \n",
      "2014-10-9      NaN       曇            --         22.5  \n",
      "2014-10-10     1.0      薄曇            --         26.1  \n",
      "2014-10-14     NaN      快晴            --         26.8  \n",
      "2014-10-15     NaN       雨           1.5         15.6  \n"
     ]
    }
   ],
   "source": [
    "# 評価用データの読み込み\n",
    "df_test = pd.read_csv(\"../input/test.csv\", index_col='datetime')\n",
    "\n",
    "# データの先頭10行の表示\n",
    "print( df_test.head(10) )"
   ]
  },
  {
   "cell_type": "code",
   "execution_count": 7,
   "metadata": {},
   "outputs": [
    {
     "name": "stdout",
     "output_type": "stream",
     "text": [
      "(207, 11)\n"
     ]
    }
   ],
   "source": [
    "# データの行数・列数の表示\n",
    "print( df.shape )"
   ]
  },
  {
   "cell_type": "code",
   "execution_count": 8,
   "metadata": {},
   "outputs": [
    {
     "name": "stdout",
     "output_type": "stream",
     "text": [
      "<class 'pandas.core.frame.DataFrame'>\n",
      "Index: 207 entries, 2013-11-18 to 2014-9-30\n",
      "Data columns (total 11 columns):\n",
      "y                207 non-null int64\n",
      "week             207 non-null object\n",
      "soldout          207 non-null int64\n",
      "name             207 non-null object\n",
      "kcal             166 non-null float64\n",
      "remarks          21 non-null object\n",
      "event            14 non-null object\n",
      "payday           10 non-null float64\n",
      "weather          207 non-null object\n",
      "precipitation    207 non-null object\n",
      "temperature      207 non-null float64\n",
      "dtypes: float64(3), int64(2), object(6)\n",
      "memory usage: 19.4+ KB\n",
      "None\n"
     ]
    }
   ],
   "source": [
    "# データのカラム情報の表示\n",
    "print( df.info() )"
   ]
  },
  {
   "cell_type": "code",
   "execution_count": 9,
   "metadata": {},
   "outputs": [
    {
     "name": "stdout",
     "output_type": "stream",
     "text": [
      "                y     soldout        kcal  payday  temperature\n",
      "count  207.000000  207.000000  166.000000    10.0   207.000000\n",
      "mean    86.623188    0.449275  404.409639     1.0    19.252174\n",
      "std     32.882448    0.498626   29.884641     0.0     8.611365\n",
      "min     29.000000    0.000000  315.000000     1.0     1.200000\n",
      "25%     57.000000    0.000000  386.000000     1.0    11.550000\n",
      "50%     78.000000    0.000000  408.500000     1.0    19.800000\n",
      "75%    113.000000    1.000000  426.000000     1.0    26.100000\n",
      "max    171.000000    1.000000  462.000000     1.0    34.600000\n"
     ]
    }
   ],
   "source": [
    "# データの数値型データについて基本統計量の表示\n",
    "print( df.describe() )"
   ]
  },
  {
   "cell_type": "code",
   "execution_count": 10,
   "metadata": {},
   "outputs": [
    {
     "name": "stdout",
     "output_type": "stream",
     "text": [
      "       week   name   remarks event weather precipitation\n",
      "count   207    207        21    14     207           207\n",
      "unique    5    156         6     2       7             8\n",
      "top       水  メンチカツ  お楽しみメニュー  ママの会       曇            --\n",
      "freq     43      6        12     9      53           169\n"
     ]
    }
   ],
   "source": [
    "# データのobject型データについて基本統計量の表示\n",
    "print( df.describe(include=['O']) )"
   ]
  },
  {
   "cell_type": "code",
   "execution_count": 11,
   "metadata": {},
   "outputs": [
    {
     "name": "stdout",
     "output_type": "stream",
     "text": [
      "<class 'pandas.core.frame.DataFrame'>\n",
      "datetime\n",
      "2013-11-18     90\n",
      "2013-11-19    101\n",
      "2013-11-20    118\n",
      "2013-11-21    120\n",
      "2013-11-22    130\n",
      "             ... \n",
      "2014-9-24      59\n",
      "2014-9-25      50\n",
      "2014-9-26      45\n",
      "2014-9-29      56\n",
      "2014-9-30      40\n",
      "Name: y, Length: 207, dtype: int64\n",
      "<class 'pandas.core.series.Series'>\n",
      "           week precipitation    y\n",
      "datetime                          \n",
      "2013-11-18    月            --   90\n",
      "2013-11-19    火            --  101\n",
      "2013-11-20    水            --  118\n",
      "2013-11-21    木            --  120\n",
      "2013-11-22    金            --  130\n",
      "...         ...           ...  ...\n",
      "2014-9-24     水             0   59\n",
      "2014-9-25     木             0   50\n",
      "2014-9-26     金            --   45\n",
      "2014-9-29     月            --   56\n",
      "2014-9-30     火            --   40\n",
      "\n",
      "[207 rows x 3 columns]\n",
      "           week  soldout          name   kcal          remarks          event  \\\n",
      "datetime                                                                        \n",
      "2013-11-18    月        0      厚切りイカフライ    NaN              NaN            NaN   \n",
      "2013-11-19    火        1       手作りヒレカツ    NaN              NaN            NaN   \n",
      "2013-11-20    水        0    白身魚唐揚げ野菜あん    NaN              NaN            NaN   \n",
      "2013-11-21    木        1        若鶏ピリ辛焼    NaN              NaN            NaN   \n",
      "2013-11-22    金        1      ビッグメンチカツ    NaN              NaN            NaN   \n",
      "...         ...      ...           ...    ...              ...            ...   \n",
      "2014-9-24     水        1   白身魚のマスタード焼き  408.0              NaN            NaN   \n",
      "2014-9-25     木        0       牛カルビ焼き肉  394.0              NaN            NaN   \n",
      "2014-9-26     金        0      ランチビュッフェ    NaN  スペシャルメニュー（800円）  キャリアアップ支援セミナー   \n",
      "2014-9-29     月        1      豚肉と玉子の炒め  404.0              NaN            NaN   \n",
      "2014-9-30     火        0  鶏肉とカシューナッツ炒め  398.0              NaN            NaN   \n",
      "\n",
      "            payday weather precipitation  temperature  \n",
      "datetime                                               \n",
      "2013-11-18     NaN      快晴            --         19.8  \n",
      "2013-11-19     NaN      快晴            --         17.0  \n",
      "2013-11-20     NaN      快晴            --         15.5  \n",
      "2013-11-21     NaN      快晴            --         15.2  \n",
      "2013-11-22     NaN      快晴            --         16.1  \n",
      "...            ...     ...           ...          ...  \n",
      "2014-9-24      NaN       曇             0         24.8  \n",
      "2014-9-25      NaN       曇             0         25.4  \n",
      "2014-9-26      NaN      晴れ            --         27.1  \n",
      "2014-9-29      NaN      快晴            --         26.6  \n",
      "2014-9-30      NaN      快晴            --         28.1  \n",
      "\n",
      "[207 rows x 10 columns]\n"
     ]
    }
   ],
   "source": [
    "# 変数dfの型の表示\n",
    "print( type(df) )\n",
    "\n",
    "# カラムyの表示\n",
    "print( df['y'] )\n",
    "\n",
    "# カラムyのみを取り出したデータの型の表示\n",
    "print( type(df['y']) )\n",
    "\n",
    "# カラムage, job, yをこの順に取り出したデータの表示\n",
    "print( df[['week', 'precipitation', 'y']] )\n",
    "\n",
    "# インデックス2,3 カラムage, job, yをこの順に取り出したデータの表示\n",
    "# print( df.loc[[2, 3], ['week', 'precipitation', 'y']] )\n",
    "\n",
    "# カラムyを取り除いたデータの表示\n",
    "print( df.drop('y', axis=1) )"
   ]
  },
  {
   "cell_type": "code",
   "execution_count": 12,
   "metadata": {},
   "outputs": [
    {
     "name": "stdout",
     "output_type": "stream",
     "text": [
      "メンチカツ           6\n",
      "タンドリーチキン        6\n",
      "手作りロースカツ        5\n",
      "肉じゃが            4\n",
      "マーボ豆腐           4\n",
      "               ..\n",
      "カレイ唐揚げ 甘酢あん     1\n",
      "筑前煮             1\n",
      "牛すき焼き風          1\n",
      "越冬キャベツのメンチカツ    1\n",
      "サーモンフライ・タルタル    1\n",
      "Name: name, Length: 156, dtype: int64\n",
      "56     11\n",
      "54      8\n",
      "53      7\n",
      "129     6\n",
      "126     5\n",
      "       ..\n",
      "86      1\n",
      "83      1\n",
      "79      1\n",
      "78      1\n",
      "29      1\n",
      "Name: y, Length: 94, dtype: int64\n"
     ]
    }
   ],
   "source": [
    "# カラムpoutcomeの要素の種類と出現数の表示\n",
    "print( df['name'].value_counts() )\n",
    "\n",
    "# カラムyの要素の種類と出現数の表示\n",
    "print( df['y'].value_counts() )"
   ]
  },
  {
   "cell_type": "code",
   "execution_count": 13,
   "metadata": {},
   "outputs": [
    {
     "name": "stdout",
     "output_type": "stream",
     "text": [
      "soldout    0   1  All\n",
      "week                 \n",
      "月         20  19   39\n",
      "木         24  19   43\n",
      "水         19  24   43\n",
      "火         26  15   41\n",
      "金         25  16   41\n",
      "All      114  93  207\n"
     ]
    }
   ],
   "source": [
    "# クロス集計の実行\n",
    "cross = pd.crosstab(df['week'], df['soldout'], margins=True)\n",
    "\n",
    "# クロス集計結果の表示\n",
    "print( cross )"
   ]
  },
  {
   "cell_type": "code",
   "execution_count": 14,
   "metadata": {},
   "outputs": [],
   "source": [
    "# クロス集計の実行\n",
    "# cross = pd.crosstab(df['poutcome'], df['y'], margins=True)\n",
    "\n",
    "# 申込率の計算\n",
    "# rate = cross[1] / cross['All']\n",
    "\n",
    "# クロス集計結果に申込率cvrを追加\n",
    "# cross['cvr'] = rate\n",
    "\n",
    "# 申込率を追加したクロス集計表の表示\n",
    "# print( cross )\n",
    "\n",
    "# クロス集計表からインデックス'success', 'failure'、カラム'cvr'のみを取り出して表示\n",
    "# print( cross.loc[['success', 'failure'], 'cvr'])\n"
   ]
  },
  {
   "cell_type": "code",
   "execution_count": 15,
   "metadata": {},
   "outputs": [
    {
     "name": "stdout",
     "output_type": "stream",
     "text": [
      "                    y   soldout      kcal  payday  temperature\n",
      "y            1.000000  0.098308  0.147269     NaN    -0.655332\n",
      "soldout      0.098308  1.000000  0.048633     NaN    -0.156752\n",
      "kcal         0.147269  0.048633  1.000000     NaN    -0.046191\n",
      "payday            NaN       NaN       NaN     NaN          NaN\n",
      "temperature -0.655332 -0.156752 -0.046191     NaN     1.000000\n"
     ]
    }
   ],
   "source": [
    "# 量的データの相関係数の計算\n",
    "corr_matrix = df.corr()\n",
    "\n",
    "# 量的データの相関係数の表示\n",
    "print( corr_matrix )"
   ]
  },
  {
   "cell_type": "code",
   "execution_count": 16,
   "metadata": {},
   "outputs": [
    {
     "data": {
      "image/png": "[encoded data removed]",
      "text/plain": [
       "<Figure size 432x288 with 2 Axes>"
      ]
     },
     "metadata": {
      "needs_background": "light"
     },
     "output_type": "display_data"
    }
   ],
   "source": [
    "# matplotlib.pyplotのインポート\n",
    "import matplotlib.pyplot as plt\n",
    "\n",
    "# seabornのインポート\n",
    "import seaborn as sns\n",
    "\n",
    "# heatmapを作成\n",
    "sns.heatmap(corr_matrix, cmap=\"Reds\")\n",
    "\n",
    "# グラフにタイトルを追加\n",
    "plt.title('Correlation')\n",
    "\n",
    "# グラフを表示\n",
    "plt.show()"
   ]
  },
  {
   "cell_type": "code",
   "execution_count": 17,
   "metadata": {},
   "outputs": [],
   "source": [
    "# yの値が1のデータを表示\n",
    "# print( df[df['y']==1] )\n",
    "\n",
    "# yの値が1のデータのdurationを表示\n",
    "# print( df[df['y']==1]['duration'] )"
   ]
  },
  {
   "cell_type": "code",
   "execution_count": 18,
   "metadata": {},
   "outputs": [],
   "source": [
    "#durationの抜き出し\n",
    "# duration_0 = df[df['y']==0]['duration']\n",
    "# duration_1 = df[df['y']==1]['duration']\n",
    "\n",
    "# ヒストグラムの作成\n",
    "# sns.distplot(duration_0, label='y=0')\n",
    "# sns.distplot(duration_1, label='y=1')\n",
    "\n",
    "\n",
    "# グラフにタイトルを追加\n",
    "# plt.title('duration histgram')\n",
    "\n",
    "# グラフのx軸に名前を追加\n",
    "# plt.xlabel('duration')\n",
    "\n",
    "# グラフのy軸に名前を追加\n",
    "# plt.ylabel('frequency')\n",
    "\n",
    "# x軸の表示範囲の指定\n",
    "# plt.xlim(0, 2000)\n",
    "\n",
    "# グラフに凡例を追加\n",
    "# plt.legend()\n",
    "\n",
    "# グラフを表示\n",
    "# plt.show()"
   ]
  },
  {
   "cell_type": "code",
   "execution_count": 19,
   "metadata": {},
   "outputs": [
    {
     "name": "stdout",
     "output_type": "stream",
     "text": [
      "            月  木  水  火  金\n",
      "datetime                 \n",
      "2013-11-18  1  0  0  0  0\n",
      "2013-11-19  0  0  0  1  0\n",
      "2013-11-20  0  0  1  0  0\n",
      "2013-11-21  0  1  0  0  0\n",
      "2013-11-22  0  0  0  0  1\n"
     ]
    }
   ],
   "source": [
    "# カラムweekをダミー変数化し先頭5行を表示\n",
    "print( pd.get_dummies(df['week']).head() )"
   ]
  },
  {
   "cell_type": "code",
   "execution_count": 20,
   "metadata": {},
   "outputs": [
    {
     "name": "stdout",
     "output_type": "stream",
     "text": [
      "            いか天ぷら  かじきの甘辛煮  きのこソースハンバーグ  さっくりメンチカツ  さわら焼味噌掛け  さんま辛味焼  \\\n",
      "datetime                                                               \n",
      "2013-11-18      0        0            0          0         0       0   \n",
      "2013-11-19      0        0            0          0         0       0   \n",
      "2013-11-20      0        0            0          0         0       0   \n",
      "2013-11-21      0        0            0          0         0       0   \n",
      "2013-11-22      0        0            0          0         0       0   \n",
      "\n",
      "            たっぷりベーコンフライ  ひやしたぬきうどん・炊き込みご飯  ぶりレモンペッパー焼き  ますのマスタードソース  ...  \\\n",
      "datetime                                                             ...   \n",
      "2013-11-18            0                 0            0            0  ...   \n",
      "2013-11-19            0                 0            0            0  ...   \n",
      "2013-11-20            0                 0            0            0  ...   \n",
      "2013-11-21            0                 0            0            0  ...   \n",
      "2013-11-22            0                 0            0            0  ...   \n",
      "\n",
      "            鶏の唐揚げ甘酢あん  鶏の塩から揚げ  鶏の天ぷら  鶏の照り焼きマスタード  鶏の照り焼きマヨ  鶏の親子煮  鶏チリソース  \\\n",
      "datetime                                                                      \n",
      "2013-11-18          0        0      0            0         0      0       0   \n",
      "2013-11-19          0        0      0            0         0      0       0   \n",
      "2013-11-20          0        0      0            0         0      0       0   \n",
      "2013-11-21          0        0      0            0         0      0       0   \n",
      "2013-11-22          0        0      0            0         0      0       0   \n",
      "\n",
      "            鶏肉とカシューナッツ炒め  鶏肉のカレー唐揚  鶏肉の山賊焼き  \n",
      "datetime                                     \n",
      "2013-11-18             0         0        0  \n",
      "2013-11-19             0         0        0  \n",
      "2013-11-20             0         0        0  \n",
      "2013-11-21             0         0        0  \n",
      "2013-11-22             0         0        0  \n",
      "\n",
      "[5 rows x 156 columns]\n"
     ]
    }
   ],
   "source": [
    "# カラムnameをダミー変数化し先頭5行を表示\n",
    "print( pd.get_dummies(df['name']).head() )"
   ]
  },
  {
   "cell_type": "code",
   "execution_count": 21,
   "metadata": {},
   "outputs": [
    {
     "name": "stdout",
     "output_type": "stream",
     "text": [
      "            快晴  晴れ  曇  薄曇  雨  雪  雷電\n",
      "datetime                           \n",
      "2013-11-18   1   0  0   0  0  0   0\n",
      "2013-11-19   1   0  0   0  0  0   0\n",
      "2013-11-20   1   0  0   0  0  0   0\n",
      "2013-11-21   1   0  0   0  0  0   0\n",
      "2013-11-22   1   0  0   0  0  0   0\n"
     ]
    }
   ],
   "source": [
    "# カラムweatherをダミー変数化し先頭5行を表示\n",
    "print( pd.get_dummies(df['weather']).head() )"
   ]
  },
  {
   "cell_type": "code",
   "execution_count": 22,
   "metadata": {},
   "outputs": [
    {
     "name": "stdout",
     "output_type": "stream",
     "text": [
      "11\n",
      "189\n"
     ]
    }
   ],
   "source": [
    "# データの列数の表示\n",
    "print( df.shape[1] )\n",
    "\n",
    "# ダミー変数化後のデータの列数の表示\n",
    "print( pd.get_dummies(df).shape[1] )"
   ]
  },
  {
   "cell_type": "code",
   "execution_count": 23,
   "metadata": {},
   "outputs": [
    {
     "name": "stdout",
     "output_type": "stream",
     "text": [
      "datetime\n",
      "2013-11-18     90\n",
      "2013-11-19    101\n",
      "2013-11-20    118\n",
      "2013-11-21    120\n",
      "2013-11-22    130\n",
      "             ... \n",
      "2014-9-24      59\n",
      "2014-9-25      50\n",
      "2014-9-26      45\n",
      "2014-9-29      56\n",
      "2014-9-30      40\n",
      "Name: y, Length: 207, dtype: int64\n",
      "            soldout   kcal  payday  temperature  week_月  week_木  week_水  \\\n",
      "datetime                                                                  \n",
      "2013-11-18        0    NaN     NaN         19.8       1       0       0   \n",
      "2013-11-19        1    NaN     NaN         17.0       0       0       0   \n",
      "2013-11-20        0    NaN     NaN         15.5       0       0       1   \n",
      "2013-11-21        1    NaN     NaN         15.2       0       1       0   \n",
      "2013-11-22        1    NaN     NaN         16.1       0       0       0   \n",
      "...             ...    ...     ...          ...     ...     ...     ...   \n",
      "2014-9-24         1  408.0     NaN         24.8       0       0       1   \n",
      "2014-9-25         0  394.0     NaN         25.4       0       1       0   \n",
      "2014-9-26         0    NaN     NaN         27.1       0       0       0   \n",
      "2014-9-29         1  404.0     NaN         26.6       1       0       0   \n",
      "2014-9-30         0  398.0     NaN         28.1       0       0       0   \n",
      "\n",
      "            week_火  week_金  name_いか天ぷら  ...  weather_雪  weather_雷電  \\\n",
      "datetime                                ...                          \n",
      "2013-11-18       0       0           0  ...          0           0   \n",
      "2013-11-19       1       0           0  ...          0           0   \n",
      "2013-11-20       0       0           0  ...          0           0   \n",
      "2013-11-21       0       0           0  ...          0           0   \n",
      "2013-11-22       0       1           0  ...          0           0   \n",
      "...            ...     ...         ...  ...        ...         ...   \n",
      "2014-9-24        0       0           0  ...          0           0   \n",
      "2014-9-25        0       0           0  ...          0           0   \n",
      "2014-9-26        0       1           0  ...          0           0   \n",
      "2014-9-29        0       0           0  ...          0           0   \n",
      "2014-9-30        1       0           0  ...          0           0   \n",
      "\n",
      "            precipitation_--  precipitation_0  precipitation_0.5  \\\n",
      "datetime                                                           \n",
      "2013-11-18                 1                0                  0   \n",
      "2013-11-19                 1                0                  0   \n",
      "2013-11-20                 1                0                  0   \n",
      "2013-11-21                 1                0                  0   \n",
      "2013-11-22                 1                0                  0   \n",
      "...                      ...              ...                ...   \n",
      "2014-9-24                  0                1                  0   \n",
      "2014-9-25                  0                1                  0   \n",
      "2014-9-26                  1                0                  0   \n",
      "2014-9-29                  1                0                  0   \n",
      "2014-9-30                  1                0                  0   \n",
      "\n",
      "            precipitation_1  precipitation_1.5  precipitation_2.5  \\\n",
      "datetime                                                            \n",
      "2013-11-18                0                  0                  0   \n",
      "2013-11-19                0                  0                  0   \n",
      "2013-11-20                0                  0                  0   \n",
      "2013-11-21                0                  0                  0   \n",
      "2013-11-22                0                  0                  0   \n",
      "...                     ...                ...                ...   \n",
      "2014-9-24                 0                  0                  0   \n",
      "2014-9-25                 0                  0                  0   \n",
      "2014-9-26                 0                  0                  0   \n",
      "2014-9-29                 0                  0                  0   \n",
      "2014-9-30                 0                  0                  0   \n",
      "\n",
      "            precipitation_6  precipitation_6.5  \n",
      "datetime                                        \n",
      "2013-11-18                0                  0  \n",
      "2013-11-19                0                  0  \n",
      "2013-11-20                0                  0  \n",
      "2013-11-21                0                  0  \n",
      "2013-11-22                0                  0  \n",
      "...                     ...                ...  \n",
      "2014-9-24                 0                  0  \n",
      "2014-9-25                 0                  0  \n",
      "2014-9-26                 0                  0  \n",
      "2014-9-29                 0                  0  \n",
      "2014-9-30                 0                  0  \n",
      "\n",
      "[207 rows x 188 columns]\n"
     ]
    }
   ],
   "source": [
    "# データのダミー変数化\n",
    "df = pd.get_dummies(df)\n",
    "\n",
    "# data_yに目的変数を代入\n",
    "y_train = df['y']\n",
    "\n",
    "# data_yの表示\n",
    "print( y_train )\n",
    "\n",
    "# data_Xに説明変数を代入\n",
    "X_train = df.drop('y', axis=1)\n",
    "\n",
    "# data_Xの表示\n",
    "print( X_train )"
   ]
  },
  {
   "cell_type": "code",
   "execution_count": 24,
   "metadata": {},
   "outputs": [],
   "source": [
    "import lightgbm as lgb\n",
    "from sklearn.model_selection import train_test_split\n",
    "from sklearn.metrics import accuracy_score"
   ]
  },
  {
   "cell_type": "code",
   "execution_count": 25,
   "metadata": {},
   "outputs": [
    {
     "name": "stdout",
     "output_type": "stream",
     "text": [
      "fold1 start\n"
     ]
    },
    {
     "ename": "LightGBMError",
     "evalue": "Do not support non-ascii characters in feature name.",
     "output_type": "error",
     "traceback": [
      "\u001b[0;31m---------------------------------------------------------------------------\u001b[0m",
      "\u001b[0;31mLightGBMError\u001b[0m                             Traceback (most recent call last)",
      "\u001b[0;32m<ipython-input-25-37ea0df282ef>\u001b[0m in \u001b[0;36m<module>\u001b[0;34m\u001b[0m\n\u001b[1;32m     32\u001b[0m                     \u001b[0mnum_boost_round\u001b[0m \u001b[0;34m=\u001b[0m \u001b[0;36m200\u001b[0m\u001b[0;34m,\u001b[0m\u001b[0;34m\u001b[0m\u001b[0;34m\u001b[0m\u001b[0m\n\u001b[1;32m     33\u001b[0m                     \u001b[0mvalid_sets\u001b[0m \u001b[0;34m=\u001b[0m \u001b[0;34m[\u001b[0m\u001b[0mlgb_train\u001b[0m\u001b[0;34m,\u001b[0m \u001b[0mlgb_valid\u001b[0m\u001b[0;34m]\u001b[0m\u001b[0;34m,\u001b[0m\u001b[0;34m\u001b[0m\u001b[0;34m\u001b[0m\u001b[0m\n\u001b[0;32m---> 34\u001b[0;31m                     \u001b[0mearly_stopping_rounds\u001b[0m \u001b[0;34m=\u001b[0m \u001b[0;36m10\u001b[0m\u001b[0;34m\u001b[0m\u001b[0;34m\u001b[0m\u001b[0m\n\u001b[0m\u001b[1;32m     35\u001b[0m                    )\n\u001b[1;32m     36\u001b[0m \u001b[0;34m\u001b[0m\u001b[0m\n",
      "\u001b[0;32m~/python/py37env/lib/python3.7/site-packages/lightgbm/engine.py\u001b[0m in \u001b[0;36mtrain\u001b[0;34m(params, train_set, num_boost_round, valid_sets, valid_names, fobj, feval, init_model, feature_name, categorical_feature, early_stopping_rounds, evals_result, verbose_eval, learning_rates, keep_training_booster, callbacks)\u001b[0m\n\u001b[1;32m    226\u001b[0m     \u001b[0;31m# construct booster\u001b[0m\u001b[0;34m\u001b[0m\u001b[0;34m\u001b[0m\u001b[0;34m\u001b[0m\u001b[0m\n\u001b[1;32m    227\u001b[0m     \u001b[0;32mtry\u001b[0m\u001b[0;34m:\u001b[0m\u001b[0;34m\u001b[0m\u001b[0;34m\u001b[0m\u001b[0m\n\u001b[0;32m--> 228\u001b[0;31m         \u001b[0mbooster\u001b[0m \u001b[0;34m=\u001b[0m \u001b[0mBooster\u001b[0m\u001b[0;34m(\u001b[0m\u001b[0mparams\u001b[0m\u001b[0;34m=\u001b[0m\u001b[0mparams\u001b[0m\u001b[0;34m,\u001b[0m \u001b[0mtrain_set\u001b[0m\u001b[0;34m=\u001b[0m\u001b[0mtrain_set\u001b[0m\u001b[0;34m)\u001b[0m\u001b[0;34m\u001b[0m\u001b[0;34m\u001b[0m\u001b[0m\n\u001b[0m\u001b[1;32m    229\u001b[0m         \u001b[0;32mif\u001b[0m \u001b[0mis_valid_contain_train\u001b[0m\u001b[0;34m:\u001b[0m\u001b[0;34m\u001b[0m\u001b[0;34m\u001b[0m\u001b[0m\n\u001b[1;32m    230\u001b[0m             \u001b[0mbooster\u001b[0m\u001b[0;34m.\u001b[0m\u001b[0mset_train_data_name\u001b[0m\u001b[0;34m(\u001b[0m\u001b[0mtrain_data_name\u001b[0m\u001b[0;34m)\u001b[0m\u001b[0;34m\u001b[0m\u001b[0;34m\u001b[0m\u001b[0m\n",
      "\u001b[0;32m~/python/py37env/lib/python3.7/site-packages/lightgbm/basic.py\u001b[0m in \u001b[0;36m__init__\u001b[0;34m(self, params, train_set, model_file, model_str, silent)\u001b[0m\n\u001b[1;32m   1662\u001b[0m             \u001b[0mself\u001b[0m\u001b[0;34m.\u001b[0m\u001b[0mhandle\u001b[0m \u001b[0;34m=\u001b[0m \u001b[0mctypes\u001b[0m\u001b[0;34m.\u001b[0m\u001b[0mc_void_p\u001b[0m\u001b[0;34m(\u001b[0m\u001b[0;34m)\u001b[0m\u001b[0;34m\u001b[0m\u001b[0;34m\u001b[0m\u001b[0m\n\u001b[1;32m   1663\u001b[0m             _safe_call(_LIB.LGBM_BoosterCreate(\n\u001b[0;32m-> 1664\u001b[0;31m                 \u001b[0mtrain_set\u001b[0m\u001b[0;34m.\u001b[0m\u001b[0mconstruct\u001b[0m\u001b[0;34m(\u001b[0m\u001b[0;34m)\u001b[0m\u001b[0;34m.\u001b[0m\u001b[0mhandle\u001b[0m\u001b[0;34m,\u001b[0m\u001b[0;34m\u001b[0m\u001b[0;34m\u001b[0m\u001b[0m\n\u001b[0m\u001b[1;32m   1665\u001b[0m                 \u001b[0mc_str\u001b[0m\u001b[0;34m(\u001b[0m\u001b[0mparams_str\u001b[0m\u001b[0;34m)\u001b[0m\u001b[0;34m,\u001b[0m\u001b[0;34m\u001b[0m\u001b[0;34m\u001b[0m\u001b[0m\n\u001b[1;32m   1666\u001b[0m                 ctypes.byref(self.handle)))\n",
      "\u001b[0;32m~/python/py37env/lib/python3.7/site-packages/lightgbm/basic.py\u001b[0m in \u001b[0;36mconstruct\u001b[0;34m(self)\u001b[0m\n\u001b[1;32m   1035\u001b[0m                                 \u001b[0minit_score\u001b[0m\u001b[0;34m=\u001b[0m\u001b[0mself\u001b[0m\u001b[0;34m.\u001b[0m\u001b[0minit_score\u001b[0m\u001b[0;34m,\u001b[0m \u001b[0mpredictor\u001b[0m\u001b[0;34m=\u001b[0m\u001b[0mself\u001b[0m\u001b[0;34m.\u001b[0m\u001b[0m_predictor\u001b[0m\u001b[0;34m,\u001b[0m\u001b[0;34m\u001b[0m\u001b[0;34m\u001b[0m\u001b[0m\n\u001b[1;32m   1036\u001b[0m                                 \u001b[0msilent\u001b[0m\u001b[0;34m=\u001b[0m\u001b[0mself\u001b[0m\u001b[0;34m.\u001b[0m\u001b[0msilent\u001b[0m\u001b[0;34m,\u001b[0m \u001b[0mfeature_name\u001b[0m\u001b[0;34m=\u001b[0m\u001b[0mself\u001b[0m\u001b[0;34m.\u001b[0m\u001b[0mfeature_name\u001b[0m\u001b[0;34m,\u001b[0m\u001b[0;34m\u001b[0m\u001b[0;34m\u001b[0m\u001b[0m\n\u001b[0;32m-> 1037\u001b[0;31m                                 categorical_feature=self.categorical_feature, params=self.params)\n\u001b[0m\u001b[1;32m   1038\u001b[0m             \u001b[0;32mif\u001b[0m \u001b[0mself\u001b[0m\u001b[0;34m.\u001b[0m\u001b[0mfree_raw_data\u001b[0m\u001b[0;34m:\u001b[0m\u001b[0;34m\u001b[0m\u001b[0;34m\u001b[0m\u001b[0m\n\u001b[1;32m   1039\u001b[0m                 \u001b[0mself\u001b[0m\u001b[0;34m.\u001b[0m\u001b[0mdata\u001b[0m \u001b[0;34m=\u001b[0m \u001b[0;32mNone\u001b[0m\u001b[0;34m\u001b[0m\u001b[0;34m\u001b[0m\u001b[0m\n",
      "\u001b[0;32m~/python/py37env/lib/python3.7/site-packages/lightgbm/basic.py\u001b[0m in \u001b[0;36m_lazy_init\u001b[0;34m(self, data, label, reference, weight, group, init_score, predictor, silent, feature_name, categorical_feature, params)\u001b[0m\n\u001b[1;32m    865\u001b[0m             \u001b[0;32mraise\u001b[0m \u001b[0mTypeError\u001b[0m\u001b[0;34m(\u001b[0m\u001b[0;34m'Wrong predictor type {}'\u001b[0m\u001b[0;34m.\u001b[0m\u001b[0mformat\u001b[0m\u001b[0;34m(\u001b[0m\u001b[0mtype\u001b[0m\u001b[0;34m(\u001b[0m\u001b[0mpredictor\u001b[0m\u001b[0;34m)\u001b[0m\u001b[0;34m.\u001b[0m\u001b[0m__name__\u001b[0m\u001b[0;34m)\u001b[0m\u001b[0;34m)\u001b[0m\u001b[0;34m\u001b[0m\u001b[0;34m\u001b[0m\u001b[0m\n\u001b[1;32m    866\u001b[0m         \u001b[0;31m# set feature names\u001b[0m\u001b[0;34m\u001b[0m\u001b[0;34m\u001b[0m\u001b[0;34m\u001b[0m\u001b[0m\n\u001b[0;32m--> 867\u001b[0;31m         \u001b[0;32mreturn\u001b[0m \u001b[0mself\u001b[0m\u001b[0;34m.\u001b[0m\u001b[0mset_feature_name\u001b[0m\u001b[0;34m(\u001b[0m\u001b[0mfeature_name\u001b[0m\u001b[0;34m)\u001b[0m\u001b[0;34m\u001b[0m\u001b[0;34m\u001b[0m\u001b[0m\n\u001b[0m\u001b[1;32m    868\u001b[0m \u001b[0;34m\u001b[0m\u001b[0m\n\u001b[1;32m    869\u001b[0m     \u001b[0;32mdef\u001b[0m \u001b[0m__init_from_np2d\u001b[0m\u001b[0;34m(\u001b[0m\u001b[0mself\u001b[0m\u001b[0;34m,\u001b[0m \u001b[0mmat\u001b[0m\u001b[0;34m,\u001b[0m \u001b[0mparams_str\u001b[0m\u001b[0;34m,\u001b[0m \u001b[0mref_dataset\u001b[0m\u001b[0;34m)\u001b[0m\u001b[0;34m:\u001b[0m\u001b[0;34m\u001b[0m\u001b[0;34m\u001b[0m\u001b[0m\n",
      "\u001b[0;32m~/python/py37env/lib/python3.7/site-packages/lightgbm/basic.py\u001b[0m in \u001b[0;36mset_feature_name\u001b[0;34m(self, feature_name)\u001b[0m\n\u001b[1;32m   1316\u001b[0m                 \u001b[0mself\u001b[0m\u001b[0;34m.\u001b[0m\u001b[0mhandle\u001b[0m\u001b[0;34m,\u001b[0m\u001b[0;34m\u001b[0m\u001b[0;34m\u001b[0m\u001b[0m\n\u001b[1;32m   1317\u001b[0m                 \u001b[0mc_array\u001b[0m\u001b[0;34m(\u001b[0m\u001b[0mctypes\u001b[0m\u001b[0;34m.\u001b[0m\u001b[0mc_char_p\u001b[0m\u001b[0;34m,\u001b[0m \u001b[0mc_feature_name\u001b[0m\u001b[0;34m)\u001b[0m\u001b[0;34m,\u001b[0m\u001b[0;34m\u001b[0m\u001b[0;34m\u001b[0m\u001b[0m\n\u001b[0;32m-> 1318\u001b[0;31m                 ctypes.c_int(len(feature_name))))\n\u001b[0m\u001b[1;32m   1319\u001b[0m         \u001b[0;32mreturn\u001b[0m \u001b[0mself\u001b[0m\u001b[0;34m\u001b[0m\u001b[0;34m\u001b[0m\u001b[0m\n\u001b[1;32m   1320\u001b[0m \u001b[0;34m\u001b[0m\u001b[0m\n",
      "\u001b[0;32m~/python/py37env/lib/python3.7/site-packages/lightgbm/basic.py\u001b[0m in \u001b[0;36m_safe_call\u001b[0;34m(ret)\u001b[0m\n\u001b[1;32m     45\u001b[0m     \"\"\"\n\u001b[1;32m     46\u001b[0m     \u001b[0;32mif\u001b[0m \u001b[0mret\u001b[0m \u001b[0;34m!=\u001b[0m \u001b[0;36m0\u001b[0m\u001b[0;34m:\u001b[0m\u001b[0;34m\u001b[0m\u001b[0;34m\u001b[0m\u001b[0m\n\u001b[0;32m---> 47\u001b[0;31m         \u001b[0;32mraise\u001b[0m \u001b[0mLightGBMError\u001b[0m\u001b[0;34m(\u001b[0m\u001b[0mdecode_string\u001b[0m\u001b[0;34m(\u001b[0m\u001b[0m_LIB\u001b[0m\u001b[0;34m.\u001b[0m\u001b[0mLGBM_GetLastError\u001b[0m\u001b[0;34m(\u001b[0m\u001b[0;34m)\u001b[0m\u001b[0;34m)\u001b[0m\u001b[0;34m)\u001b[0m\u001b[0;34m\u001b[0m\u001b[0;34m\u001b[0m\u001b[0m\n\u001b[0m\u001b[1;32m     48\u001b[0m \u001b[0;34m\u001b[0m\u001b[0m\n\u001b[1;32m     49\u001b[0m \u001b[0;34m\u001b[0m\u001b[0m\n",
      "\u001b[0;31mLightGBMError\u001b[0m: Do not support non-ascii characters in feature name."
     ]
    }
   ],
   "source": [
    "from sklearn.model_selection import KFold\n",
    "\n",
    "# ３分割交差検証を指定し、インスタンス化\n",
    "kf = KFold(n_splits=3, shuffle=True)\n",
    "\n",
    "# スコアとモデルを格納するリスト\n",
    "score_list = []\n",
    "models = []\n",
    "\n",
    "for fold_, (train_index, valid_index) in enumerate(kf.split(X_train, y_train)):\n",
    "    print(f'fold{fold_ + 1} start')\n",
    "    train_x = X_train.iloc[train_index]\n",
    "    valid_x = X_train.iloc[valid_index]\n",
    "    train_y = y_train[train_index]\n",
    "    valid_y = y_train[valid_index]\n",
    "    # lab.Datasetを使って、trainとvalidを作っておく\n",
    "    lgb_train= lgb.Dataset(train_x, train_y)\n",
    "    lgb_valid = lgb.Dataset(valid_x, valid_y)\n",
    "\n",
    "#    lgbm_params = {'objective': 'regression'}\n",
    "    # パラメータを定義\n",
    "    lgbm_params = {'objective': 'regression'}                                                                                               \n",
    "          \n",
    "#    gbm = lgb.train(params = lgbm_params,\n",
    "#                   train_set = lgb_train,\n",
    "#                   valid_sets =[lgb_train,lgb_valid],\n",
    "#                   early_stopping_rounds = 20,\n",
    "#                   verbose_eval = -1 # 学習の状況を表示しない\n",
    "#                   )\n",
    "    # 学習\n",
    "    gbm = lgb.train(params = lgbm_params, train_set = lgb_train, \n",
    "                    num_boost_round = 200,\n",
    "                    valid_sets = [lgb_train, lgb_valid],\n",
    "                    early_stopping_rounds = 10\n",
    "                   )\n",
    "\n",
    "    oof = (gbm.predict(valid_x) > 0.5).astype(int)\n",
    "    score_list.append(round(accuracy_score(valid_y, oof)*100,2))\n",
    "    models.append(gbm) # 学習が終わったモデルをリストに入れておく\n",
    "    print(f'fold{fold_ + 1} end\\n' )\n",
    "print(score_list, '平均score', round(np.mean(score_list), 2))"
   ]
  },
  {
   "cell_type": "code",
   "execution_count": null,
   "metadata": {},
   "outputs": [],
   "source": [
    "# テストデータの予測を格納する。418列3列のnumpy行列を作成\n",
    "test_pred = np.zeros((len(test), 3))\n",
    "\n",
    "for fold_, gbm in enumerate(models):\n",
    "    pred_ = gbm.predict(test) # testを予測\n",
    "    test_pred[:, fold_] = pred_\n",
    "\n",
    "pred = (np.mean(test_pred, axis=1) > 0.5).astype(int)\n",
    "sample_submission['Survived'] = pred\n",
    "sample_submission.to_csv('3-fold_cross-validation.csv',index=False)"
   ]
  },
  {
   "cell_type": "code",
   "execution_count": null,
   "metadata": {},
   "outputs": [],
   "source": [
    "# 説明変数をdata_Xに、目的変数をdata_yに代入\n",
    "data_X = df.drop('y', axis=1)\n",
    "data_y = df['y']\n",
    "\n",
    "# train_test_splitのインポート\n",
    "from sklearn.model_selection import train_test_split\n",
    "\n",
    "# 学習データと評価データにデータを分割\n",
    "train_X, test_X, train_y, test_y = train_test_split(data_X, data_y, test_size=0.25, random_state=0)\n",
    "\n",
    "# 学習用データの説明変数の行数の表示\n",
    "print( train_X.shape[0])\n",
    "\n",
    "# 評価用データの説明変数の行数の表示\n",
    "print( test_X.shape[0])"
   ]
  },
  {
   "cell_type": "code",
   "execution_count": null,
   "metadata": {},
   "outputs": [],
   "source": [
    "# 説明変数をdata_Xに、目的変数をdata_yに代入\n",
    "data_X, data_y = df.drop('y', axis=1), df['y']\n",
    "\n",
    "# train_test_splitのインポート\n",
    "from sklearn.model_selection import train_test_split\n",
    "\n",
    "# 学習データと評価データにデータを分割\n",
    "train_X, test_X, train_y, test_y = train_test_split(data_X, data_y, test_size=0.25, random_state=0)\n",
    "\n",
    "# 決定木モデルのインポート\n",
    "from sklearn.tree import DecisionTreeClassifier as DT\n",
    "\n",
    "# 決定木モデルの準備\n",
    "tree = DT(max_depth = 2, random_state = 0)\n",
    "\n",
    "# 決定木モデルの学習\n",
    "tree.fit(train_X, train_y)"
   ]
  },
  {
   "cell_type": "code",
   "execution_count": null,
   "metadata": {},
   "outputs": [],
   "source": [
    "# 重要度の表示\n",
    "print( tree.feature_importances_ )\n",
    "\n",
    "# 重要度に名前を付けて表示\n",
    "print( pd.Series(tree.feature_importances_, index=train_X.columns) )"
   ]
  },
  {
   "cell_type": "code",
   "execution_count": null,
   "metadata": {},
   "outputs": [],
   "source": [
    "# 評価用データの予測\n",
    "pred_y1 = tree.predict_proba(test_X)[:,1]\n",
    "\n",
    "# 予測結果の表示\n",
    "print( pred_y1 )"
   ]
  },
  {
   "cell_type": "code",
   "execution_count": null,
   "metadata": {},
   "outputs": [],
   "source": [
    "from sklearn.metrics import roc_auc_score\n",
    "\n",
    "# 実測値test_y,予測値pred_y1を使ってAUCを計算 roc_auc_score(実測値, 予測値)\n",
    "auc1 = roc_auc_score(test_y,pred_y1)\n",
    "\n",
    "# 評価結果の表示\n",
    "print( auc1 )"
   ]
  },
  {
   "cell_type": "code",
   "execution_count": null,
   "metadata": {},
   "outputs": [],
   "source": [
    "# roc_curveのインポート\n",
    "from sklearn.metrics import roc_curve\n",
    "\n",
    "# 実測値test_yと予測値pred_y1を使って偽陽性率、真陽性率、閾値の計算\n",
    "fpr, tpr, thresholds = roc_curve(test_y, pred_y1)\n",
    "\n",
    "# ラベル名の作成\n",
    "roc_label = 'ROC(AUC={:.2}, max_depth=2)'.format(auc1)\n",
    "\n",
    "# ROC曲線の作成\n",
    "plt.plot(fpr, tpr, label=roc_label)\n",
    "\n",
    "# 対角線の作成\n",
    "plt.plot([0.0, 1.0], [0.0, 1.0], color='black', linestyle='dashed')\n",
    "\n",
    "# グラフにタイトルを追加\n",
    "plt.title('ROC')\n",
    "\n",
    "# グラフのx軸に名前を追加\n",
    "plt.xlabel('FPR')\n",
    "\n",
    "# グラフのy軸に名前を追加\n",
    "plt.ylabel('TPR')\n",
    "\n",
    "# x軸の表示範囲の指定\n",
    "plt.xlim(0, 1)\n",
    "\n",
    "# y軸の表示範囲の指定\n",
    "plt.ylim(0, 1)\n",
    "\n",
    "# 凡例の表示\n",
    "plt.legend()\n",
    "\n",
    "# グラフを表示\n",
    "plt.show()"
   ]
  },
  {
   "cell_type": "code",
   "execution_count": null,
   "metadata": {},
   "outputs": [],
   "source": [
    "# 決定木描画ライブラリのインポート\n",
    "from sklearn.tree import export_graphviz\n",
    "\n",
    "# 決定木グラフの出力\n",
    "export_graphviz(tree, out_file=\"tree.dot\", feature_names=train_X.columns, class_names=[\"0\",\"1\"], filled=True, rounded=True)\n",
    "\n",
    "# 決定木グラフの表示\n",
    "from matplotlib import pyplot as plt\n",
    "from PIL import Image\n",
    "import pydotplus\n",
    "import io\n",
    "\n",
    "g = pydotplus.graph_from_dot_file(path=\"tree.dot\")\n",
    "gg = g.create_png()\n",
    "img = io.BytesIO(gg)\n",
    "img2 = Image.open(img)\n",
    "plt.figure(figsize=(img2.width/100, img2.height/100), dpi=100)\n",
    "plt.imshow(img2)\n",
    "plt.axis(\"off\")\n",
    "plt.show()"
   ]
  },
  {
   "cell_type": "code",
   "execution_count": null,
   "metadata": {},
   "outputs": [],
   "source": [
    "# 決定木モデルの準備\n",
    "tree = DT(max_depth=10, random_state = 0)"
   ]
  },
  {
   "cell_type": "code",
   "execution_count": null,
   "metadata": {},
   "outputs": [],
   "source": [
    "# 決定木モデルの学習\n",
    "tree.fit(train_X, train_y)\n",
    "\n",
    "# 評価用データの予測\n",
    "pred_y2 = tree.predict_proba(test_X)[:,1]\n",
    "\n",
    "# AUCの計算\n",
    "auc2 = roc_auc_score(test_y, pred_y2)\n",
    "\n",
    "# 評価結果の表示\n",
    "print( auc2 )"
   ]
  },
  {
   "cell_type": "code",
   "execution_count": null,
   "metadata": {},
   "outputs": [],
   "source": [
    "# グリッドサーチのインポート\n",
    "from sklearn.model_selection import GridSearchCV\n",
    "\n",
    "# 決定木モデルの準備\n",
    "tree = DT(random_state=0)\n",
    "\n",
    "# パラメータの準備\n",
    "parameters = {'max_depth':[2,3,4,5,6,7,8,9,10]}\n",
    "\n",
    "# グリッドサーチの設定\n",
    "gcv = GridSearchCV(tree, parameters, cv=5, scoring='roc_auc', return_train_score=True)"
   ]
  },
  {
   "cell_type": "code",
   "execution_count": null,
   "metadata": {},
   "outputs": [],
   "source": [
    "# グリッドサーチの実行\n",
    "gcv.fit(train_X, train_y)"
   ]
  },
  {
   "cell_type": "code",
   "execution_count": null,
   "metadata": {},
   "outputs": [],
   "source": [
    "# 評価スコアの取り出し\n",
    "train_score = gcv.cv_results_['mean_train_score']\n",
    "test_score = gcv.cv_results_['mean_test_score']\n",
    "print(train_score)\n",
    "print(test_score)"
   ]
  },
  {
   "cell_type": "code",
   "execution_count": null,
   "metadata": {},
   "outputs": [],
   "source": [
    "# matplotlib.pyplotを省略名pltとしてインポート \n",
    "import matplotlib.pyplot as plt\n",
    "\n",
    "# 学習に用いたデータを使って評価したスコアの描画\n",
    "plt.plot([2,3,4,5,6,7,8,9,10], train_score, label=\"train_score\")\n",
    "\n",
    "# 学習には用いなかったデータを使って評価したスコアの描画\n",
    "plt.plot([2,3,4,5,6,7,8,9,10], test_score, label=\"test_score\")\n",
    "\n",
    "# グラフにタイトルを追加\n",
    "plt.title('train_score vs test_score')\n",
    "\n",
    "# グラフのx軸に名前を追加\n",
    "plt.xlabel('max_depth')\n",
    "\n",
    "# グラフのy軸に名前を追加\n",
    "plt.ylabel('AUC')\n",
    "\n",
    "# 凡例の表示\n",
    "plt.legend()\n",
    "\n",
    "# グラフの表示\n",
    "plt.show()"
   ]
  },
  {
   "cell_type": "code",
   "execution_count": null,
   "metadata": {},
   "outputs": [],
   "source": [
    "# 最適なパラメータの表示\n",
    "print( gcv.best_params_ )\n",
    "\n",
    "# 最適なパラメータで学習したモデルの取得\n",
    "best_model = gcv.best_estimator_\n",
    "\n",
    "# 評価用データの予測\n",
    "pred_y3 = best_model.predict_proba(test_X)[:,1]\n",
    "\n",
    "# AUCの計算\n",
    "auc3 = roc_auc_score(test_y, pred_y3)\n",
    "\n",
    "# AUCの表示\n",
    "print ( auc3 )"
   ]
  },
  {
   "cell_type": "code",
   "execution_count": null,
   "metadata": {},
   "outputs": [],
   "source": [
    "# 偽陽性率、真陽性率、閾値の計算\n",
    "# なお、予測結果は以下の変数に代入されているものとします。\n",
    "# pred_y1：max_depth=2の場合の予測結果\n",
    "# pred_y2：max_depth=10の場合の予測結果\n",
    "# pred_y3：max_depth=6の場合の予測結果\n",
    "# また、それぞれの戻り値を代入する変数は以下とします。\n",
    "# fpr1,tpr1,thresholds1：max_depth=2の場合の偽陽性率、真陽性率、閾値\n",
    "# fpr1,tpr1,thresholds1：max_depth=10の場合の偽陽性率、真陽性率、閾値\n",
    "# fpr1,tpr1,thresholds1：max_depth=6の場合の偽陽性率、真陽性率、閾値\n",
    "fpr1, tpr1, thresholds1 = roc_curve(test_y, pred_y1)\n",
    "fpr2, tpr2, thresholds2 = roc_curve(test_y, pred_y2)\n",
    "fpr3, tpr3, thresholds3 = roc_curve(test_y, pred_y3)\n",
    "\n",
    "# ラベル名の作成\n",
    "# なお、それぞれの戻り値を代入する変数は以下とします。\n",
    "# roc_label1：max_depth=2の場合のラベル名\n",
    "# roc_label2：max_depth=10の場合のラベル名\n",
    "# roc_label3：max_depth=6の場合のラベル名\n",
    "roc_label1='ROC(AUC={:.2}, max_depth=2)'.format(auc1)\n",
    "roc_label2='ROC(AUC={:.2}, max_depth=10)'.format(auc2)\n",
    "roc_label3='ROC(AUC={:.2}, max_depth=6)'.format(auc3)"
   ]
  },
  {
   "cell_type": "code",
   "execution_count": null,
   "metadata": {},
   "outputs": [],
   "source": [
    "plt.plot(fpr1, tpr1, label=roc_label1.format(auc1))\n",
    "plt.plot(fpr2, tpr2, label=roc_label2.format(auc2))\n",
    "plt.plot(fpr3, tpr3, label=roc_label3.format(auc3))\n",
    "plt.plot([0, 1], [0, 1], color='black', linestyle='dashed')\n",
    "plt.title(\"ROC\")\n",
    "plt.xlabel('FPR')\n",
    "plt.ylabel('TPR')\n",
    "plt.legend()\n",
    "plt.xlim(0, 1)\n",
    "plt.ylim(0, 1)\n",
    "plt.show()"
   ]
  },
  {
   "cell_type": "code",
   "execution_count": null,
   "metadata": {},
   "outputs": [],
   "source": [
    "# 決定木グラフの出力\n",
    "export_graphviz(best_model, out_file=\"tree.dot\", feature_names=train_X.columns, class_names=[\"0\",\"1\"], filled=True, rounded=True)\n",
    "\n",
    "# 決定木グラフの表示\n",
    "from matplotlib import pyplot as plt\n",
    "from PIL import Image\n",
    "import pydotplus\n",
    "import io\n",
    "g = pydotplus.graph_from_dot_file(path=\"tree.dot\")\n",
    "gg = g.create_png()\n",
    "img = io.BytesIO(gg)\n",
    "img2 = Image.open(img)\n",
    "plt.figure(figsize=(img2.width/100, img2.height/100), dpi=100)\n",
    "plt.imshow(img2)\n",
    "plt.axis(\"off\")\n",
    "plt.show()"
   ]
  },
  {
   "cell_type": "code",
   "execution_count": null,
   "metadata": {},
   "outputs": [],
   "source": [
    "print(pred_y3)\n",
    "# 申込率を含むアタックリストの作成\n",
    "attack_list = pd.DataFrame(index=test_X.index, data={\"cvr\":pred_y3})\n",
    "\n",
    "# 期待できる収益の計算\n",
    "attack_list['return'] = 2000 * attack_list[\"cvr\"]\n",
    "\n",
    "# 期待できるROIの計算\n",
    "attack_list['ROI'] = attack_list['return'] / 300 * 100\n",
    "\n",
    "# ROIで降順に並べ替え\n",
    "attack_list = attack_list.sort_values('ROI', ascending=True)\n",
    "\n",
    "# ROIが100%以上の顧客idを切り出し\n",
    "attack_list = attack_list[attack_list['ROI'] >= 100.0]\n",
    "\n",
    "# アタックリストの行数・列数の表示\n",
    "print( attack_list.shape )\n",
    "\n",
    "# アタックリストの先頭5行の表示\n",
    "print( attack_list.head() )"
   ]
  },
  {
   "cell_type": "code",
   "execution_count": null,
   "metadata": {},
   "outputs": [],
   "source": [
    "#採点するための投稿用ファイル作成\n",
    "submit = pd.read_csv(\"../input/sample_submission.csv\", header=None)\n",
    "\n",
    "submit[1] = pred_y3\n",
    "submit.to_csv(\"submit.csv\", index=False, header=False)"
   ]
  }
 ],
 "metadata": {
  "kernelspec": {
   "display_name": "Python 3",
   "language": "python",
   "name": "python3"
  },
  "language_info": {
   "codemirror_mode": {
    "name": "ipython",
    "version": 3
   },
   "file_extension": ".py",
   "mimetype": "text/x-python",
   "name": "python",
   "nbconvert_exporter": "python",
   "pygments_lexer": "ipython3",
   "version": "3.7.4"
  }
 },
 "nbformat": 4,
 "nbformat_minor": 1
}

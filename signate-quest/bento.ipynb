{
 "cells": [
  {
   "cell_type": "code",
   "execution_count": null,
   "metadata": {
    "collapsed": true
   },
   "outputs": [],
   "source": [
    "# pandasのインポート\n",
    "import pandas as pd"
   ]
  },
  {
   "cell_type": "code",
   "execution_count": null,
   "metadata": {},
   "outputs": [],
   "source": [
    "# 学習用データの読み込み\n",
    "df = pd.read_csv(\"../input/train.csv\", index_col='id')\n",
    "\n",
    "# データの先頭10行の表示\n",
    "print( df.head(10) )"
   ]
  },
  {
   "cell_type": "code",
   "execution_count": null,
   "metadata": {},
   "outputs": [],
   "source": [
    "# 評価用データの読み込み\n",
    "df_test = pd.read_csv(\"../input/test.csv\", index_col='id')\n",
    "\n",
    "# データの先頭10行の表示\n",
    "print( df_test.head(10) )"
   ]
  },
  {
   "cell_type": "code",
   "execution_count": null,
   "metadata": {},
   "outputs": [],
   "source": [
    "# データの行数・列数の表示\n",
    "print( df.shape )"
   ]
  },
  {
   "cell_type": "code",
   "execution_count": null,
   "metadata": {},
   "outputs": [],
   "source": [
    "# データのカラム情報の表示\n",
    "print( df.info() )"
   ]
  },
  {
   "cell_type": "code",
   "execution_count": null,
   "metadata": {},
   "outputs": [],
   "source": [
    "# データの数値型データについて基本統計量の表示\n",
    "print( df.describe() )"
   ]
  },
  {
   "cell_type": "code",
   "execution_count": null,
   "metadata": {},
   "outputs": [],
   "source": [
    "# データのobject型データについて基本統計量の表示\n",
    "print( df.describe(include=['O']) )"
   ]
  },
  {
   "cell_type": "code",
   "execution_count": null,
   "metadata": {},
   "outputs": [],
   "source": [
    "# 変数dfの型の表示\n",
    "print( type(df) )\n",
    "\n",
    "# カラムyの表示\n",
    "print( df['y'] )\n",
    "\n",
    "# カラムyのみを取り出したデータの型の表示\n",
    "print( type(df['y']) )\n",
    "\n",
    "# カラムage, job, yをこの順に取り出したデータの表示\n",
    "print( df[['age', 'job', 'y']] )\n",
    "\n",
    "# インデックス2,3 カラムage, job, yをこの順に取り出したデータの表示\n",
    "print( df.loc[[2, 3], ['age', 'job', 'y']] )\n",
    "\n",
    "# カラムyを取り除いたデータの表示\n",
    "print( df.drop('y', axis=1) )"
   ]
  },
  {
   "cell_type": "code",
   "execution_count": null,
   "metadata": {},
   "outputs": [],
   "source": [
    "# カラムpoutcomeの要素の種類と出現数の表示\n",
    "print( df['poutcome'].value_counts() )\n",
    "\n",
    "# カラムyの要素の種類と出現数の表示\n",
    "print( df['y'].value_counts() )"
   ]
  },
  {
   "cell_type": "code",
   "execution_count": null,
   "metadata": {},
   "outputs": [],
   "source": [
    "# クロス集計の実行\n",
    "cross = pd.crosstab(df['poutcome'], df['y'], margins=True)\n",
    "\n",
    "# クロス集計結果の表示\n",
    "print( cross )"
   ]
  },
  {
   "cell_type": "code",
   "execution_count": null,
   "metadata": {},
   "outputs": [],
   "source": [
    "# クロス集計の実行\n",
    "cross = pd.crosstab(df['poutcome'], df['y'], margins=True)\n",
    "\n",
    "# 申込率の計算\n",
    "rate = cross[1] / cross['All']\n",
    "\n",
    "# クロス集計結果に申込率cvrを追加\n",
    "cross['cvr'] = rate\n",
    "\n",
    "# 申込率を追加したクロス集計表の表示\n",
    "print( cross )\n",
    "\n",
    "# クロス集計表からインデックス'success', 'failure'、カラム'cvr'のみを取り出して表示\n",
    "print( cross.loc[['success', 'failure'], 'cvr'])\n"
   ]
  },
  {
   "cell_type": "code",
   "execution_count": null,
   "metadata": {},
   "outputs": [],
   "source": [
    "# 量的データの相関係数の計算\n",
    "corr_matrix = df.corr()\n",
    "\n",
    "# 量的データの相関係数の表示\n",
    "print( corr_matrix )"
   ]
  },
  {
   "cell_type": "code",
   "execution_count": null,
   "metadata": {},
   "outputs": [],
   "source": [
    "# matplotlib.pyplotのインポート\n",
    "import matplotlib.pyplot as plt\n",
    "\n",
    "# seabornのインポート\n",
    "import seaborn as sns\n",
    "\n",
    "# heatmapを作成\n",
    "sns.heatmap(corr_matrix, cmap=\"Reds\")\n",
    "\n",
    "# グラフにタイトルを追加\n",
    "plt.title('Correlation')\n",
    "\n",
    "# グラフを表示\n",
    "plt.show()"
   ]
  },
  {
   "cell_type": "code",
   "execution_count": null,
   "metadata": {},
   "outputs": [],
   "source": [
    "# yの値が1のデータを表示\n",
    "print( df[df['y']==1] )\n",
    "\n",
    "# yの値が1のデータのdurationを表示\n",
    "print( df[df['y']==1]['duration'] )"
   ]
  },
  {
   "cell_type": "code",
   "execution_count": null,
   "metadata": {},
   "outputs": [],
   "source": [
    "#durationの抜き出し\n",
    "duration_0 = df[df['y']==0]['duration']\n",
    "duration_1 = df[df['y']==1]['duration']\n",
    "\n",
    "# ヒストグラムの作成\n",
    "sns.distplot(duration_0, label='y=0')\n",
    "sns.distplot(duration_1, label='y=1')\n",
    "\n",
    "\n",
    "# グラフにタイトルを追加\n",
    "plt.title('duration histgram')\n",
    "\n",
    "# グラフのx軸に名前を追加\n",
    "plt.xlabel('duration')\n",
    "\n",
    "# グラフのy軸に名前を追加\n",
    "plt.ylabel('frequency')\n",
    "\n",
    "# x軸の表示範囲の指定\n",
    "plt.xlim(0, 2000)\n",
    "\n",
    "# グラフに凡例を追加\n",
    "plt.legend()\n",
    "\n",
    "# グラフを表示\n",
    "plt.show()"
   ]
  },
  {
   "cell_type": "code",
   "execution_count": null,
   "metadata": {},
   "outputs": [],
   "source": [
    "# カラムjobをダミー変数化し先頭5行を表示\n",
    "print( pd.get_dummies(df['job']).head() )"
   ]
  },
  {
   "cell_type": "code",
   "execution_count": null,
   "metadata": {},
   "outputs": [],
   "source": [
    "# データの列数の表示\n",
    "print( df.shape[1] )\n",
    "\n",
    "# ダミー変数化後のデータの列数の表示\n",
    "print( pd.get_dummies(df).shape[1] )"
   ]
  },
  {
   "cell_type": "code",
   "execution_count": null,
   "metadata": {},
   "outputs": [],
   "source": [
    "# データのダミー変数化\n",
    "df = pd.get_dummies(df)\n",
    "\n",
    "# data_yに目的変数を代入\n",
    "data_y = df['y']\n",
    "\n",
    "# data_yの表示\n",
    "print( data_y )\n",
    "\n",
    "# data_Xに説明変数を代入\n",
    "data_X = df.drop('y', axis=1)\n",
    "\n",
    "# data_Xの表示\n",
    "print( data_X )"
   ]
  },
  {
   "cell_type": "code",
   "execution_count": null,
   "metadata": {},
   "outputs": [],
   "source": [
    "# 説明変数をdata_Xに、目的変数をdata_yに代入\n",
    "data_X = df.drop('y', axis=1)\n",
    "data_y = df['y']\n",
    "\n",
    "# train_test_splitのインポート\n",
    "from sklearn.model_selection import train_test_split\n",
    "\n",
    "# 学習データと評価データにデータを分割\n",
    "train_X, test_X, train_y, test_y = train_test_split(data_X, data_y, test_size=0.25, random_state=0)\n",
    "\n",
    "# 学習用データの説明変数の行数の表示\n",
    "print( train_X.shape[0])\n",
    "\n",
    "# 評価用データの説明変数の行数の表示\n",
    "print( test_X.shape[0])"
   ]
  },
  {
   "cell_type": "code",
   "execution_count": null,
   "metadata": {},
   "outputs": [],
   "source": [
    "# 説明変数をdata_Xに、目的変数をdata_yに代入\n",
    "data_X, data_y = df.drop('y', axis=1), df['y']\n",
    "\n",
    "# train_test_splitのインポート\n",
    "from sklearn.model_selection import train_test_split\n",
    "\n",
    "# 学習データと評価データにデータを分割\n",
    "train_X, test_X, train_y, test_y = train_test_split(data_X, data_y, test_size=0.25, random_state=0)\n",
    "\n",
    "# 決定木モデルのインポート\n",
    "from sklearn.tree import DecisionTreeClassifier as DT\n",
    "\n",
    "# 決定木モデルの準備\n",
    "tree = DT(max_depth = 2, random_state = 0)\n",
    "\n",
    "# 決定木モデルの学習\n",
    "tree.fit(train_X, train_y)"
   ]
  },
  {
   "cell_type": "code",
   "execution_count": null,
   "metadata": {},
   "outputs": [],
   "source": [
    "# 重要度の表示\n",
    "print( tree.feature_importances_ )\n",
    "\n",
    "# 重要度に名前を付けて表示\n",
    "print( pd.Series(tree.feature_importances_, index=train_X.columns) )"
   ]
  },
  {
   "cell_type": "code",
   "execution_count": null,
   "metadata": {},
   "outputs": [],
   "source": [
    "# 評価用データの予測\n",
    "pred_y1 = tree.predict_proba(test_X)[:,1]\n",
    "\n",
    "# 予測結果の表示\n",
    "print( pred_y1 )"
   ]
  },
  {
   "cell_type": "code",
   "execution_count": null,
   "metadata": {},
   "outputs": [],
   "source": [
    "from sklearn.metrics import roc_auc_score\n",
    "\n",
    "# 実測値test_y,予測値pred_y1を使ってAUCを計算 roc_auc_score(実測値, 予測値)\n",
    "auc1 = roc_auc_score(test_y,pred_y1)\n",
    "\n",
    "# 評価結果の表示\n",
    "print( auc1 )"
   ]
  },
  {
   "cell_type": "code",
   "execution_count": null,
   "metadata": {},
   "outputs": [],
   "source": [
    "# roc_curveのインポート\n",
    "from sklearn.metrics import roc_curve\n",
    "\n",
    "# 実測値test_yと予測値pred_y1を使って偽陽性率、真陽性率、閾値の計算\n",
    "fpr, tpr, thresholds = roc_curve(test_y, pred_y1)\n",
    "\n",
    "# ラベル名の作成\n",
    "roc_label = 'ROC(AUC={:.2}, max_depth=2)'.format(auc1)\n",
    "\n",
    "# ROC曲線の作成\n",
    "plt.plot(fpr, tpr, label=roc_label)\n",
    "\n",
    "# 対角線の作成\n",
    "plt.plot([0.0, 1.0], [0.0, 1.0], color='black', linestyle='dashed')\n",
    "\n",
    "# グラフにタイトルを追加\n",
    "plt.title('ROC')\n",
    "\n",
    "# グラフのx軸に名前を追加\n",
    "plt.xlabel('FPR')\n",
    "\n",
    "# グラフのy軸に名前を追加\n",
    "plt.ylabel('TPR')\n",
    "\n",
    "# x軸の表示範囲の指定\n",
    "plt.xlim(0, 1)\n",
    "\n",
    "# y軸の表示範囲の指定\n",
    "plt.ylim(0, 1)\n",
    "\n",
    "# 凡例の表示\n",
    "plt.legend()\n",
    "\n",
    "# グラフを表示\n",
    "plt.show()"
   ]
  },
  {
   "cell_type": "code",
   "execution_count": null,
   "metadata": {},
   "outputs": [],
   "source": [
    "# 決定木描画ライブラリのインポート\n",
    "from sklearn.tree import export_graphviz\n",
    "\n",
    "# 決定木グラフの出力\n",
    "export_graphviz(tree, out_file=\"tree.dot\", feature_names=train_X.columns, class_names=[\"0\",\"1\"], filled=True, rounded=True)\n",
    "\n",
    "# 決定木グラフの表示\n",
    "from matplotlib import pyplot as plt\n",
    "from PIL import Image\n",
    "import pydotplus\n",
    "import io\n",
    "\n",
    "g = pydotplus.graph_from_dot_file(path=\"tree.dot\")\n",
    "gg = g.create_png()\n",
    "img = io.BytesIO(gg)\n",
    "img2 = Image.open(img)\n",
    "plt.figure(figsize=(img2.width/100, img2.height/100), dpi=100)\n",
    "plt.imshow(img2)\n",
    "plt.axis(\"off\")\n",
    "plt.show()"
   ]
  },
  {
   "cell_type": "code",
   "execution_count": null,
   "metadata": {},
   "outputs": [],
   "source": [
    "# 決定木モデルの準備\n",
    "tree = DT(max_depth=10, random_state = 0)"
   ]
  },
  {
   "cell_type": "code",
   "execution_count": null,
   "metadata": {},
   "outputs": [],
   "source": [
    "# 決定木モデルの学習\n",
    "tree.fit(train_X, train_y)\n",
    "\n",
    "# 評価用データの予測\n",
    "pred_y2 = tree.predict_proba(test_X)[:,1]\n",
    "\n",
    "# AUCの計算\n",
    "auc2 = roc_auc_score(test_y, pred_y2)\n",
    "\n",
    "# 評価結果の表示\n",
    "print( auc2 )"
   ]
  },
  {
   "cell_type": "code",
   "execution_count": null,
   "metadata": {},
   "outputs": [],
   "source": [
    "# グリッドサーチのインポート\n",
    "from sklearn.model_selection import GridSearchCV\n",
    "\n",
    "# 決定木モデルの準備\n",
    "tree = DT(random_state=0)\n",
    "\n",
    "# パラメータの準備\n",
    "parameters = {'max_depth':[2,3,4,5,6,7,8,9,10]}\n",
    "\n",
    "# グリッドサーチの設定\n",
    "gcv = GridSearchCV(tree, parameters, cv=5, scoring='roc_auc', return_train_score=True)"
   ]
  },
  {
   "cell_type": "code",
   "execution_count": null,
   "metadata": {},
   "outputs": [],
   "source": [
    "# グリッドサーチの実行\n",
    "gcv.fit(train_X, train_y)"
   ]
  },
  {
   "cell_type": "code",
   "execution_count": null,
   "metadata": {},
   "outputs": [],
   "source": [
    "# 評価スコアの取り出し\n",
    "train_score = gcv.cv_results_['mean_train_score']\n",
    "test_score = gcv.cv_results_['mean_test_score']\n",
    "print(train_score)\n",
    "print(test_score)"
   ]
  },
  {
   "cell_type": "code",
   "execution_count": null,
   "metadata": {},
   "outputs": [],
   "source": [
    "# matplotlib.pyplotを省略名pltとしてインポート \n",
    "import matplotlib.pyplot as plt\n",
    "\n",
    "# 学習に用いたデータを使って評価したスコアの描画\n",
    "plt.plot([2,3,4,5,6,7,8,9,10], train_score, label=\"train_score\")\n",
    "\n",
    "# 学習には用いなかったデータを使って評価したスコアの描画\n",
    "plt.plot([2,3,4,5,6,7,8,9,10], test_score, label=\"test_score\")\n",
    "\n",
    "# グラフにタイトルを追加\n",
    "plt.title('train_score vs test_score')\n",
    "\n",
    "# グラフのx軸に名前を追加\n",
    "plt.xlabel('max_depth')\n",
    "\n",
    "# グラフのy軸に名前を追加\n",
    "plt.ylabel('AUC')\n",
    "\n",
    "# 凡例の表示\n",
    "plt.legend()\n",
    "\n",
    "# グラフの表示\n",
    "plt.show()"
   ]
  },
  {
   "cell_type": "code",
   "execution_count": null,
   "metadata": {},
   "outputs": [],
   "source": [
    "# 最適なパラメータの表示\n",
    "print( gcv.best_params_ )\n",
    "\n",
    "# 最適なパラメータで学習したモデルの取得\n",
    "best_model = gcv.best_estimator_\n",
    "\n",
    "# 評価用データの予測\n",
    "pred_y3 = best_model.predict_proba(test_X)[:,1]\n",
    "\n",
    "# AUCの計算\n",
    "auc3 = roc_auc_score(test_y, pred_y3)\n",
    "\n",
    "# AUCの表示\n",
    "print ( auc3 )"
   ]
  },
  {
   "cell_type": "code",
   "execution_count": null,
   "metadata": {},
   "outputs": [],
   "source": [
    "# 偽陽性率、真陽性率、閾値の計算\n",
    "# なお、予測結果は以下の変数に代入されているものとします。\n",
    "# pred_y1：max_depth=2の場合の予測結果\n",
    "# pred_y2：max_depth=10の場合の予測結果\n",
    "# pred_y3：max_depth=6の場合の予測結果\n",
    "# また、それぞれの戻り値を代入する変数は以下とします。\n",
    "# fpr1,tpr1,thresholds1：max_depth=2の場合の偽陽性率、真陽性率、閾値\n",
    "# fpr1,tpr1,thresholds1：max_depth=10の場合の偽陽性率、真陽性率、閾値\n",
    "# fpr1,tpr1,thresholds1：max_depth=6の場合の偽陽性率、真陽性率、閾値\n",
    "fpr1, tpr1, thresholds1 = roc_curve(test_y, pred_y1)\n",
    "fpr2, tpr2, thresholds2 = roc_curve(test_y, pred_y2)\n",
    "fpr3, tpr3, thresholds3 = roc_curve(test_y, pred_y3)\n",
    "\n",
    "# ラベル名の作成\n",
    "# なお、それぞれの戻り値を代入する変数は以下とします。\n",
    "# roc_label1：max_depth=2の場合のラベル名\n",
    "# roc_label2：max_depth=10の場合のラベル名\n",
    "# roc_label3：max_depth=6の場合のラベル名\n",
    "roc_label1='ROC(AUC={:.2}, max_depth=2)'.format(auc1)\n",
    "roc_label2='ROC(AUC={:.2}, max_depth=10)'.format(auc2)\n",
    "roc_label3='ROC(AUC={:.2}, max_depth=6)'.format(auc3)"
   ]
  },
  {
   "cell_type": "code",
   "execution_count": null,
   "metadata": {},
   "outputs": [],
   "source": [
    "plt.plot(fpr1, tpr1, label=roc_label1.format(auc1))\n",
    "plt.plot(fpr2, tpr2, label=roc_label2.format(auc2))\n",
    "plt.plot(fpr3, tpr3, label=roc_label3.format(auc3))\n",
    "plt.plot([0, 1], [0, 1], color='black', linestyle='dashed')\n",
    "plt.title(\"ROC\")\n",
    "plt.xlabel('FPR')\n",
    "plt.ylabel('TPR')\n",
    "plt.legend()\n",
    "plt.xlim(0, 1)\n",
    "plt.ylim(0, 1)\n",
    "plt.show()"
   ]
  },
  {
   "cell_type": "code",
   "execution_count": null,
   "metadata": {},
   "outputs": [],
   "source": [
    "# 決定木グラフの出力\n",
    "export_graphviz(best_model, out_file=\"tree.dot\", feature_names=train_X.columns, class_names=[\"0\",\"1\"], filled=True, rounded=True)\n",
    "\n",
    "# 決定木グラフの表示\n",
    "from matplotlib import pyplot as plt\n",
    "from PIL import Image\n",
    "import pydotplus\n",
    "import io\n",
    "g = pydotplus.graph_from_dot_file(path=\"tree.dot\")\n",
    "gg = g.create_png()\n",
    "img = io.BytesIO(gg)\n",
    "img2 = Image.open(img)\n",
    "plt.figure(figsize=(img2.width/100, img2.height/100), dpi=100)\n",
    "plt.imshow(img2)\n",
    "plt.axis(\"off\")\n",
    "plt.show()"
   ]
  },
  {
   "cell_type": "code",
   "execution_count": null,
   "metadata": {},
   "outputs": [],
   "source": [
    "print(pred_y3)\n",
    "# 申込率を含むアタックリストの作成\n",
    "attack_list = pd.DataFrame(index=test_X.index, data={\"cvr\":pred_y3})\n",
    "\n",
    "# 期待できる収益の計算\n",
    "attack_list['return'] = 2000 * attack_list[\"cvr\"]\n",
    "\n",
    "# 期待できるROIの計算\n",
    "attack_list['ROI'] = attack_list['return'] / 300 * 100\n",
    "\n",
    "# ROIで降順に並べ替え\n",
    "attack_list = attack_list.sort_values('ROI', ascending=True)\n",
    "\n",
    "# ROIが100%以上の顧客idを切り出し\n",
    "attack_list = attack_list[attack_list['ROI'] >= 100.0]\n",
    "\n",
    "# アタックリストの行数・列数の表示\n",
    "print( attack_list.shape )\n",
    "\n",
    "# アタックリストの先頭5行の表示\n",
    "print( attack_list.head() )"
   ]
  },
  {
   "cell_type": "code",
   "execution_count": null,
   "metadata": {},
   "outputs": [],
   "source": [
    "#採点するための投稿用ファイル作成\n",
    "submit = pd.read_csv(\"../input/sample_submission.csv\", header=None)\n",
    "\n",
    "submit[1] = pred_y3\n",
    "submit.to_csv(\"submit.csv\", index=False, header=False)"
   ]
  }
 ],
 "metadata": {
  "kernelspec": {
   "display_name": "Python 3",
   "language": "python",
   "name": "python3"
  },
  "language_info": {
   "codemirror_mode": {
    "name": "ipython",
    "version": 3
   },
   "file_extension": ".py",
   "mimetype": "text/x-python",
   "name": "python",
   "nbconvert_exporter": "python",
   "pygments_lexer": "ipython3",
   "version": "3.7.4"
  }
 },
 "nbformat": 4,
 "nbformat_minor": 1
}
